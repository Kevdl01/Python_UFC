{
 "cells": [
  {
   "cell_type": "code",
   "execution_count": null,
   "metadata": {},
   "outputs": [],
   "source": [
    "import re\n",
    "hand = open('Files/mbox-short.txt')\n",
    "for line in hand:\n",
    "    line = line.rstrip()\n",
    "    if re.search('F..m:', line):\n",
    "        print(line)\n",
    "        \n"
   ]
  },
  {
   "cell_type": "code",
   "execution_count": null,
   "metadata": {},
   "outputs": [],
   "source": [
    "import re\n",
    "hand = open('Files/mbox-short.txt')\n",
    "for line in hand:\n",
    "    line = line.rstrip()\n",
    "    x = re.findall('[a-zA-Z0-9]\\S*@\\S*[a-zA-Z]', line)\n",
    "    if len(x) > 0:\n",
    "        print(x)\n",
    "        "
   ]
  },
  {
   "cell_type": "code",
   "execution_count": 3,
   "metadata": {},
   "outputs": [
    {
     "name": "stdout",
     "output_type": "stream",
     "text": [
      "['0.8475', '0.0000', '0.6178', '0.0000', '0.6961', '0.0000', '0.7565', '0.0000', '0.7626', '0.0000', '0.7556', '0.0000', '0.7002', '0.0000', '0.7615', '0.0000', '0.7601', '0.0000', '0.7605', '0.0000', '0.6959', '0.0000', '0.7606', '0.0000', '0.7559', '0.0000', '0.7605', '0.0000', '0.6932', '0.0000', '0.7558', '0.0000', '0.6526', '0.0000', '0.6948', '0.0000', '0.6528', '0.0000', '0.7002', '0.0000', '0.7554', '0.0000', '0.6956', '0.0000', '0.6959', '0.0000', '0.7556', '0.0000', '0.9846', '0.0000', '0.8509', '0.0000', '0.9907', '0.0000'] 54\n"
     ]
    }
   ],
   "source": [
    "import re\n",
    "hand = open('Files/mbox-short.txt')\n",
    "for line in hand:\n",
    "    line = line.rstrip()\n",
    "    x = x + re.findall('X\\S*: ([0-9.]+)', line)\n",
    "if len(x) > 0:\n",
    "    print(x, len(x))"
   ]
  },
  {
   "cell_type": "code",
   "execution_count": 11,
   "metadata": {},
   "outputs": [
    {
     "name": "stdout",
     "output_type": "stream",
     "text": [
      "['39772']\n",
      "['39771']\n",
      "['39770']\n",
      "['39769']\n",
      "['39766']\n",
      "['39765']\n",
      "['39764']\n",
      "['39763']\n",
      "['39762']\n",
      "['39761']\n",
      "['39760']\n",
      "['39759']\n",
      "['39758']\n",
      "['39757']\n",
      "['39756']\n",
      "['39755']\n",
      "['39754']\n",
      "['39753']\n",
      "['39752']\n",
      "['39751']\n",
      "['39750']\n",
      "['39749']\n",
      "['39746']\n",
      "['39745']\n",
      "['39744']\n",
      "['39743']\n",
      "['39742']\n"
     ]
    }
   ],
   "source": [
    "import re\n",
    "hand = open('Files/mbox-short.txt')\n",
    "for line in hand:\n",
    "    line = line.rstrip()\n",
    "    x = re.findall('Details:.*rev=([0-9.]+)', line)\n",
    "    if len(x) > 0:print(x)"
   ]
  },
  {
   "cell_type": "code",
   "execution_count": null,
   "metadata": {},
   "outputs": [],
   "source": []
  }
 ],
 "metadata": {
  "kernelspec": {
   "display_name": "Python 3",
   "language": "python",
   "name": "python3"
  },
  "language_info": {
   "codemirror_mode": {
    "name": "ipython",
    "version": 3
   },
   "file_extension": ".py",
   "mimetype": "text/x-python",
   "name": "python",
   "nbconvert_exporter": "python",
   "pygments_lexer": "ipython3",
   "version": "3.7.1"
  }
 },
 "nbformat": 4,
 "nbformat_minor": 2
}
