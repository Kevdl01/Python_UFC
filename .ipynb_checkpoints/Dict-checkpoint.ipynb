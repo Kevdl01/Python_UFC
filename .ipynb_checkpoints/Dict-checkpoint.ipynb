{
 "cells": [
  {
   "cell_type": "code",
   "execution_count": 2,
   "metadata": {},
   "outputs": [
    {
     "name": "stdout",
     "output_type": "stream",
     "text": [
      "{}\n"
     ]
    }
   ],
   "source": [
    "print(eng2sp)"
   ]
  },
  {
   "cell_type": "code",
   "execution_count": 1,
   "metadata": {},
   "outputs": [],
   "source": [
    "eng2sp = dict()"
   ]
  },
  {
   "cell_type": "code",
   "execution_count": 3,
   "metadata": {},
   "outputs": [],
   "source": [
    "eng2sp['one'] = 'uno'"
   ]
  },
  {
   "cell_type": "code",
   "execution_count": 4,
   "metadata": {},
   "outputs": [
    {
     "name": "stdout",
     "output_type": "stream",
     "text": [
      "{'one': 'uno'}\n"
     ]
    }
   ],
   "source": [
    "print(eng2sp)"
   ]
  },
  {
   "cell_type": "code",
   "execution_count": 5,
   "metadata": {},
   "outputs": [
    {
     "name": "stdout",
     "output_type": "stream",
     "text": [
      "{'one': 'uno', 'two': 'dos', 'three': 'tres'}\n"
     ]
    }
   ],
   "source": [
    "eng2sp = {'one' : 'uno' , 'two' : 'dos', 'three' : 'tres'}\n",
    "print(eng2sp)"
   ]
  },
  {
   "cell_type": "code",
   "execution_count": 14,
   "metadata": {},
   "outputs": [
    {
     "name": "stdout",
     "output_type": "stream",
     "text": [
      "dos\n"
     ]
    }
   ],
   "source": [
    "print(eng2sp['two'])"
   ]
  },
  {
   "cell_type": "code",
   "execution_count": 15,
   "metadata": {},
   "outputs": [
    {
     "data": {
      "text/plain": [
       "3"
      ]
     },
     "execution_count": 15,
     "metadata": {},
     "output_type": "execute_result"
    }
   ],
   "source": [
    "len(eng2sp)"
   ]
  },
  {
   "cell_type": "code",
   "execution_count": 17,
   "metadata": {},
   "outputs": [
    {
     "data": {
      "text/plain": [
       "True"
      ]
     },
     "execution_count": 17,
     "metadata": {},
     "output_type": "execute_result"
    }
   ],
   "source": [
    "vals = list(eng2sp.values())\n",
    "'uno' in vals"
   ]
  },
  {
   "cell_type": "code",
   "execution_count": 18,
   "metadata": {},
   "outputs": [
    {
     "data": {
      "text/plain": [
       "True"
      ]
     },
     "execution_count": 18,
     "metadata": {},
     "output_type": "execute_result"
    }
   ],
   "source": [
    "'uno' in eng2sp.values()"
   ]
  },
  {
   "cell_type": "code",
   "execution_count": 20,
   "metadata": {},
   "outputs": [],
   "source": [
    "wordlist2 = dict()"
   ]
  },
  {
   "cell_type": "code",
   "execution_count": 21,
   "metadata": {},
   "outputs": [
    {
     "data": {
      "text/plain": [
       "dict"
      ]
     },
     "execution_count": 21,
     "metadata": {},
     "output_type": "execute_result"
    }
   ],
   "source": [
    "type(wordlist2)"
   ]
  },
  {
   "cell_type": "code",
   "execution_count": 9,
   "metadata": {},
   "outputs": [
    {
     "name": "stdout",
     "output_type": "stream",
     "text": [
      "12\n"
     ]
    }
   ],
   "source": [
    "fhand = open('words.txt')\n",
    "count = 0\n",
    "for word in fhand:\n",
    "    count = count + 1\n",
    "print(count)   "
   ]
  },
  {
   "cell_type": "code",
   "execution_count": 11,
   "metadata": {},
   "outputs": [
    {
     "name": "stdout",
     "output_type": "stream",
     "text": [
      "<_io.TextIOWrapper name='words.txt' mode='r' encoding='cp1252'>\n"
     ]
    }
   ],
   "source": [
    "print(fhand)"
   ]
  },
  {
   "cell_type": "code",
   "execution_count": 12,
   "metadata": {},
   "outputs": [
    {
     "name": "stdout",
     "output_type": "stream",
     "text": [
      "12\n"
     ]
    }
   ],
   "source": [
    "print(count)\n"
   ]
  },
  {
   "cell_type": "code",
   "execution_count": 44,
   "metadata": {
    "scrolled": true
   },
   "outputs": [
    {
     "name": "stdout",
     "output_type": "stream",
     "text": [
      "{'When': 1, 'despair': 1, 'for': 1, 'the': 11, 'world': 1, 'grows': 1, 'in': 5, 'me': 2, 'and': 5, 'I': 6, 'wake': 1, 'night': 1, 'at': 1, 'least': 1, 'sound': 1, 'fear': 1, 'of': 5, 'what': 1, 'my': 2, 'life': 1, 'childrenâ€™s': 1, 'lives': 2, 'may': 1, 'be,': 1, 'go': 1, 'lie': 1, 'down': 1, 'where': 1, 'wood': 1, 'drake': 1, 'rests': 1, 'his': 1, 'beauty': 1, 'on': 1, 'water,': 1, 'great': 1, 'heron': 1, 'feeds.': 1, 'come': 2, 'into': 2, 'peace': 1, 'wild': 1, 'things': 1, 'who': 1, 'do': 1, 'not': 1, 'tax': 1, 'their': 2, 'with': 2, 'forethought': 1, 'grief.': 1, 'presence': 1, 'still': 1, 'water.': 1, 'And': 1, 'feel': 1, 'above': 1, 'day-blind': 1, 'stars': 1, 'waiting': 1, 'light.': 1, 'For': 1, 'a': 1, 'time': 1, 'rest': 1, 'grace': 1, 'world,': 1, 'am': 1, 'free.': 1, '-WENDELL': 1, 'BERRY': 1, '-': 1, 'THE': 1, 'PEACE': 1, 'OF': 1, 'WILD': 1, 'THINGS': 1}\n"
     ]
    }
   ],
   "source": [
    "fhand = open('words.txt')\n",
    "wordlist2 = dict()\n",
    "inp = fhand.read()\n",
    "t = inp.split()\n",
    "for word in t:\n",
    "    wordlist2[word] = wordlist2.get(word, 0) + 1\n",
    "print(wordlist2)"
   ]
  },
  {
   "cell_type": "code",
   "execution_count": 39,
   "metadata": {},
   "outputs": [
    {
     "data": {
      "text/plain": [
       "dict"
      ]
     },
     "execution_count": 39,
     "metadata": {},
     "output_type": "execute_result"
    }
   ],
   "source": [
    "type(wordlist2)"
   ]
  },
  {
   "cell_type": "code",
   "execution_count": 41,
   "metadata": {
    "scrolled": true
   },
   "outputs": [
    {
     "data": {
      "text/plain": [
       "False"
      ]
     },
     "execution_count": 41,
     "metadata": {},
     "output_type": "execute_result"
    }
   ],
   "source": [
    "'Peace' in wordlist2"
   ]
  },
  {
   "cell_type": "code",
   "execution_count": 43,
   "metadata": {
    "scrolled": true
   },
   "outputs": [
    {
     "data": {
      "text/plain": [
       "True"
      ]
     },
     "execution_count": 43,
     "metadata": {},
     "output_type": "execute_result"
    }
   ],
   "source": [
    "'PEACE' in wordlist2"
   ]
  },
  {
   "cell_type": "code",
   "execution_count": 62,
   "metadata": {
    "scrolled": false
   },
   "outputs": [
    {
     "name": "stdout",
     "output_type": "stream",
     "text": [
      "77\n",
      "{'When': 1, 'despair': 1, 'for': 1, 'the': 11, 'world': 1, 'grows': 1, 'in': 5, 'me': 2, 'and': 5, 'I': 6, 'wake': 1, 'night': 1, 'at': 1, 'least': 1, 'sound': 1, 'fear': 1, 'of': 5, 'what': 1, 'my': 2, 'life': 1, 'childrenâ€™s': 1, 'lives': 2, 'may': 1, 'be,': 1, 'go': 1, 'lie': 1, 'down': 1, 'where': 1, 'wood': 1, 'drake': 1, 'rests': 1, 'his': 1, 'beauty': 1, 'on': 1, 'water,': 1, 'great': 1, 'heron': 1, 'feeds.': 1, 'come': 2, 'into': 2, 'peace': 1, 'wild': 1, 'things': 1, 'who': 1, 'do': 1, 'not': 1, 'tax': 1, 'their': 2, 'with': 2, 'forethought': 1, 'grief.': 1, 'presence': 1, 'still': 1, 'water.': 1, 'And': 1, 'feel': 1, 'above': 1, 'day-blind': 1, 'stars': 1, 'waiting': 1, 'light.': 1, 'For': 1, 'a': 1, 'time': 1, 'rest': 1, 'grace': 1, 'world,': 1, 'am': 1, 'free.': 1, '-WENDELL': 1, 'BERRY': 1, '-': 1, 'THE': 1, 'PEACE': 1, 'OF': 1, 'WILD': 1, 'THINGS': 1}\n"
     ]
    }
   ],
   "source": [
    "fhand = open('words.txt')\n",
    "wordlist2 = dict()\n",
    "inp = fhand.read()\n",
    "t = inp.split()\n",
    "for word in t:\n",
    "    wordlist2[word] = wordlist2.get(word, 0) + 1\n",
    "print(len(wordlist2))\n",
    "print(wordlist2)"
   ]
  },
  {
   "cell_type": "code",
   "execution_count": 63,
   "metadata": {
    "scrolled": true
   },
   "outputs": [
    {
     "data": {
      "text/plain": [
       "True"
      ]
     },
     "execution_count": 63,
     "metadata": {},
     "output_type": "execute_result"
    }
   ],
   "source": [
    "'lie' in wordlist2"
   ]
  },
  {
   "cell_type": "code",
   "execution_count": 66,
   "metadata": {
    "scrolled": true
   },
   "outputs": [
    {
     "name": "stdout",
     "output_type": "stream",
     "text": [
      "the 11\n",
      "in 5\n",
      "and 5\n",
      "I 6\n",
      "of 5\n"
     ]
    }
   ],
   "source": [
    "for i in wordlist2:\n",
    "    if wordlist2[i] > 2:\n",
    "        print(i, wordlist2[i])"
   ]
  },
  {
   "cell_type": "code",
   "execution_count": 89,
   "metadata": {
    "scrolled": true
   },
   "outputs": [
    {
     "name": "stdout",
     "output_type": "stream",
     "text": [
      "['When', 'despair', 'for', 'the', 'world', 'grows', 'in', 'me', 'and', 'I', 'wake', 'night', 'at', 'least', 'sound', 'fear', 'of', 'what', 'my', 'life', 'childrenâ€™s', 'lives', 'may', 'be,', 'go', 'lie', 'down', 'where', 'wood', 'drake', 'rests', 'his', 'beauty', 'on', 'water,', 'great', 'heron', 'feeds.', 'come', 'into', 'peace', 'wild', 'things', 'who', 'do', 'not', 'tax', 'their', 'with', 'forethought', 'grief.', 'presence', 'still', 'water.', 'And', 'feel', 'above', 'day-blind', 'stars', 'waiting', 'light.', 'For', 'a', 'time', 'rest', 'grace', 'world,', 'am', 'free.', '-WENDELL', 'BERRY', '-', 'THE', 'PEACE', 'OF', 'WILD', 'THINGS']\n",
      "- 1\n",
      "-WENDELL 1\n",
      "And 1\n",
      "BERRY 1\n",
      "For 1\n",
      "I 6\n",
      "OF 1\n",
      "PEACE 1\n",
      "THE 1\n",
      "THINGS 1\n",
      "WILD 1\n",
      "When 1\n",
      "a 1\n",
      "above 1\n",
      "am 1\n",
      "and 5\n",
      "at 1\n",
      "be, 1\n",
      "beauty 1\n",
      "childrenâ€™s 1\n",
      "come 2\n",
      "day-blind 1\n",
      "despair 1\n",
      "do 1\n",
      "down 1\n",
      "drake 1\n",
      "fear 1\n",
      "feeds. 1\n",
      "feel 1\n",
      "for 1\n",
      "forethought 1\n",
      "free. 1\n",
      "go 1\n",
      "grace 1\n",
      "great 1\n",
      "grief. 1\n",
      "grows 1\n",
      "heron 1\n",
      "his 1\n",
      "in 5\n",
      "into 2\n",
      "least 1\n",
      "lie 1\n",
      "life 1\n",
      "light. 1\n",
      "lives 2\n",
      "may 1\n",
      "me 2\n",
      "my 2\n",
      "night 1\n",
      "not 1\n",
      "of 5\n",
      "on 1\n",
      "peace 1\n",
      "presence 1\n",
      "rest 1\n",
      "rests 1\n",
      "sound 1\n",
      "stars 1\n",
      "still 1\n",
      "tax 1\n",
      "the 11\n",
      "their 2\n",
      "things 1\n",
      "time 1\n",
      "waiting 1\n",
      "wake 1\n",
      "water, 1\n",
      "water. 1\n",
      "what 1\n",
      "where 1\n",
      "who 1\n",
      "wild 1\n",
      "with 2\n",
      "wood 1\n",
      "world 1\n",
      "world, 1\n"
     ]
    }
   ],
   "source": [
    "wlist = list(wordlist2.keys())\n",
    "print(wlist)\n",
    "wlist.sort()\n",
    "for key in wlist:\n",
    "    print(key, wordlist2[key])"
   ]
  },
  {
   "cell_type": "code",
   "execution_count": 85,
   "metadata": {},
   "outputs": [
    {
     "name": "stdout",
     "output_type": "stream",
     "text": [
      "['-', '-wendell', 'and', 'berry', 'for', 'i', 'of', 'peace', 'the', 'things', 'wild', 'when', 'a', 'above', 'am', 'and', 'at', 'be,', 'beauty', 'childrenâ€™s', 'come', 'day-blind', 'despair', 'do', 'down', 'drake', 'fear', 'feeds.', 'feel', 'for', 'forethought', 'free.', 'go', 'grace', 'great', 'grief.', 'grows', 'heron', 'his', 'in', 'into', 'least', 'lie', 'life', 'light.', 'lives', 'may', 'me', 'my', 'night', 'not', 'of', 'on', 'peace', 'presence', 'rest', 'rests', 'sound', 'stars', 'still', 'tax', 'the', 'their', 'things', 'time', 'waiting', 'wake', 'water,', 'water.', 'what', 'where', 'who', 'wild', 'with', 'wood', 'world', 'world,']\n"
     ]
    },
    {
     "ename": "KeyError",
     "evalue": "'['",
     "output_type": "error",
     "traceback": [
      "\u001b[1;31m---------------------------------------------------------------------------\u001b[0m",
      "\u001b[1;31mKeyError\u001b[0m                                  Traceback (most recent call last)",
      "\u001b[1;32m<ipython-input-85-5a5aa7b68068>\u001b[0m in \u001b[0;36m<module>\u001b[1;34m\u001b[0m\n\u001b[0;32m      3\u001b[0m \u001b[0mprint\u001b[0m\u001b[1;33m(\u001b[0m\u001b[0mwlistp\u001b[0m\u001b[1;33m)\u001b[0m\u001b[1;33m\u001b[0m\u001b[1;33m\u001b[0m\u001b[0m\n\u001b[0;32m      4\u001b[0m \u001b[1;32mfor\u001b[0m \u001b[0mi\u001b[0m \u001b[1;32min\u001b[0m \u001b[0mwlistp\u001b[0m\u001b[1;33m:\u001b[0m\u001b[1;33m\u001b[0m\u001b[1;33m\u001b[0m\u001b[0m\n\u001b[1;32m----> 5\u001b[1;33m     \u001b[0mprint\u001b[0m\u001b[1;33m(\u001b[0m\u001b[0mi\u001b[0m\u001b[1;33m,\u001b[0m \u001b[0mwordlist2\u001b[0m\u001b[1;33m[\u001b[0m\u001b[0mi\u001b[0m\u001b[1;33m]\u001b[0m\u001b[1;33m)\u001b[0m\u001b[1;33m\u001b[0m\u001b[1;33m\u001b[0m\u001b[0m\n\u001b[0m",
      "\u001b[1;31mKeyError\u001b[0m: '['"
     ]
    }
   ],
   "source": [
    "a = str(wlist)\n",
    "wlistp = a.lower()\n",
    "print(wlistp)\n",
    "for i in wlistp:\n",
    "    print(i, wordlist2[i])\n",
    "    \n",
    "#output - key error - wont work since key is case sensitive"
   ]
  }
 ],
 "metadata": {
  "kernelspec": {
   "display_name": "Python 3",
   "language": "python",
   "name": "python3"
  },
  "language_info": {
   "codemirror_mode": {
    "name": "ipython",
    "version": 3
   },
   "file_extension": ".py",
   "mimetype": "text/x-python",
   "name": "python",
   "nbconvert_exporter": "python",
   "pygments_lexer": "ipython3",
   "version": "3.7.1"
  }
 },
 "nbformat": 4,
 "nbformat_minor": 2
}
