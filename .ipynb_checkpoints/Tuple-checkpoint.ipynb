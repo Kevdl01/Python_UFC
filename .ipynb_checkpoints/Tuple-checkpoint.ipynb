{
 "cells": [
  {
   "cell_type": "code",
   "execution_count": null,
   "metadata": {},
   "outputs": [],
   "source": [
    "t = ('a', 'b', 'c', 'd', 'e')"
   ]
  },
  {
   "cell_type": "code",
   "execution_count": null,
   "metadata": {},
   "outputs": [],
   "source": [
    "print(t)"
   ]
  },
  {
   "cell_type": "code",
   "execution_count": null,
   "metadata": {},
   "outputs": [],
   "source": [
    "[3,4,7] > [3,7,2100]"
   ]
  },
  {
   "cell_type": "code",
   "execution_count": null,
   "metadata": {},
   "outputs": [],
   "source": [
    "t = [3,4,5]"
   ]
  },
  {
   "cell_type": "code",
   "execution_count": null,
   "metadata": {},
   "outputs": [],
   "source": [
    "t[0] = 8\n",
    "print(t)"
   ]
  },
  {
   "cell_type": "code",
   "execution_count": null,
   "metadata": {},
   "outputs": [],
   "source": [
    "print(t[1:])"
   ]
  },
  {
   "cell_type": "code",
   "execution_count": null,
   "metadata": {},
   "outputs": [],
   "source": [
    "txt = 'but soft what light in yonder window breaks'\n",
    "words = txt.split()\n",
    "t = list()\n",
    "for word in words:\n",
    "    t.append((len(word), word))\n",
    "t.sort(reverse=True)\n",
    "print(t)"
   ]
  },
  {
   "cell_type": "code",
   "execution_count": null,
   "metadata": {},
   "outputs": [],
   "source": [
    "res = list()\n",
    "for length, word in t:\n",
    "    res.append(word)\n",
    "print(res)"
   ]
  },
  {
   "cell_type": "code",
   "execution_count": null,
   "metadata": {},
   "outputs": [],
   "source": [
    "txt = 'but soft what light in yonder window breaks'\n",
    "words = txt.split()\n",
    "lst = list()\n",
    "for word in words:\n",
    "    lst.append((len(word), word))\n",
    "lst.sort(reverse=True)   \n",
    "res = list()\n",
    "for a, b in lst:\n",
    "    res.append(b)\n",
    "print(lst)\n",
    "print(res)"
   ]
  },
  {
   "cell_type": "code",
   "execution_count": null,
   "metadata": {},
   "outputs": [],
   "source": [
    "d = {'a': 1, 'b' : 2, 'c' : 3, 'd' : 4, 'e' : 5}\n",
    "a = list(d.items())\n",
    "print(a)"
   ]
  },
  {
   "cell_type": "code",
   "execution_count": null,
   "metadata": {},
   "outputs": [],
   "source": [
    "a.sort(reverse = True)\n",
    "print(a)"
   ]
  },
  {
   "cell_type": "code",
   "execution_count": null,
   "metadata": {},
   "outputs": [],
   "source": [
    "for key, val in list(d.items()):\n",
    "    print(val, key)"
   ]
  },
  {
   "cell_type": "code",
   "execution_count": null,
   "metadata": {},
   "outputs": [],
   "source": [
    "import string\n",
    "fhand = open('Files/romeo-full.txt', encoding=\"utf8\")\n",
    "count = dict()\n",
    "for line in fhand:\n",
    "    line = line.translate(str.maketrans('','', string.punctuation))\n",
    "    line = line.lower()\n",
    "    words = line.split()\n",
    "    for word in words:\n",
    "        count[word] = count.get(word, 0) + 1\n",
    "print(count)  \n"
   ]
  },
  {
   "cell_type": "code",
   "execution_count": null,
   "metadata": {},
   "outputs": [],
   "source": [
    "lst = list()\n",
    "for key, val in list(count.items()):\n",
    "    lst.append((val, key))\n",
    "lst.sort(reverse = True)\n",
    "for key, val in lst[:10]:\n",
    "    print(key, val)"
   ]
  },
  {
   "cell_type": "code",
   "execution_count": null,
   "metadata": {},
   "outputs": [],
   "source": [
    "i = 3\n",
    "n = 10\n",
    "while i < n: \n",
    "    print(i)\n",
    "    i = i + 1"
   ]
  },
  {
   "cell_type": "code",
   "execution_count": null,
   "metadata": {},
   "outputs": [],
   "source": [
    "c = [1, 2]\n",
    "(a, b) = c\n",
    "type(c)"
   ]
  },
  {
   "cell_type": "code",
   "execution_count": null,
   "metadata": {},
   "outputs": [],
   "source": [
    "help(sorted)"
   ]
  },
  {
   "cell_type": "code",
   "execution_count": null,
   "metadata": {},
   "outputs": [],
   "source": [
    "direct = dict()\n",
    "direct['last', 'first'] = 23\n",
    "for last, first in direct:\n",
    "    print(first, last, direct[last,first])"
   ]
  },
  {
   "cell_type": "code",
   "execution_count": null,
   "metadata": {},
   "outputs": [],
   "source": [
    "#Excercise 1\n",
    "Revise a previous program as follows: Read and parse the “From”\n",
    "lines and pull out the addresses from the line. Count the number of messages from\n",
    "each person using a dictionary.\n",
    "After all the data has been read, print the person with the most commits by\n",
    "creating a list of (count, email) tuples from the dictionary. Then sort the list in\n",
    "reverse order and print out the person who has the most commits."
   ]
  },
  {
   "cell_type": "code",
   "execution_count": null,
   "metadata": {},
   "outputs": [],
   "source": [
    "inp = input(\"please enter the file name\")\n",
    "fhand = open(inp)\n",
    "msgcount = dict()\n",
    "email = list()\n",
    "for line in fhand:\n",
    "    if line.startswith('From:'):\n",
    "        line = line[5:]\n",
    "        #print(line)\n",
    "        msgcount[line] = msgcount.get(line, 0) + 1    \n",
    "#print(msgcount)\n",
    "for key, val in msgcount.items():\n",
    "    email += [(val, key)]\n",
    "#print(email)\n",
    "email.sort(reverse=True)\n",
    "#print(email[0])\n",
    "for key, val in email[:2]:\n",
    "    print(key, val)"
   ]
  },
  {
   "cell_type": "markdown",
   "metadata": {},
   "source": [
    "Exercise 2:\n",
    "This program counts the distribution of the hour of the day for each\n",
    "of the messages. You can pull the hour from the “From” line by finding the time\n",
    "string and then splitting that string into parts using the colon character. Once\n",
    "you have accumulated the counts for each hour, print out the counts, one per line,\n",
    "sorted by hour as shown below."
   ]
  },
  {
   "cell_type": "code",
   "execution_count": null,
   "metadata": {},
   "outputs": [],
   "source": [
    "inp = input(\"please enter the file name\")\n",
    "fhand = open(inp)\n",
    "msgcount = dict()\n",
    "hours = list()\n",
    "for line in fhand:\n",
    "    if line.startswith('From '):\n",
    "        line = line.split()\n",
    "        time = line.pop(-2)\n",
    "        hour = time[:2]\n",
    "        msgcount[hour] = msgcount.get(hour, 0) + 1  \n",
    "#print(msgcount)\n",
    "for key, val in msgcount.items():\n",
    "    hours.append((key, val))\n",
    "hours.sort()\n",
    "for key, val in hours:\n",
    "    print(key, val)"
   ]
  },
  {
   "cell_type": "code",
   "execution_count": null,
   "metadata": {},
   "outputs": [],
   "source": [
    "s = (\"From stephen.marquard@uct.ac.za Sat Jan  5 09:14:16 2008\")\n",
    "s = s.split()\n",
    "time = s.pop(-2)\n",
    "print(time[:2])"
   ]
  },
  {
   "cell_type": "code",
   "execution_count": null,
   "metadata": {},
   "outputs": [],
   "source": [
    "s = (\"From stephen.marquard@uct.ac.za Sat Jan  5 09:14:16 2008\")\n",
    "a = s.find(':')\n",
    "print(s[a-2:a])"
   ]
  },
  {
   "cell_type": "markdown",
   "metadata": {},
   "source": [
    "Ex: 3 Write a program that reads a file and prints the letters in decreasing order of frequency. Your program should convert\n",
    "    all the input to lower case and only count the letters a-z. Your program should not countspaces, digits, punctuation, or\n",
    "    anything other than the letters a-z. Find text samples from several different languages and see how letter frequency\n",
    "    varies between languages. \n",
    "    Compare your results with the tables at wikipedia.org/wiki/Letter_frequencies."
   ]
  },
  {
   "cell_type": "markdown",
   "metadata": {},
   "source": [
    "import string \n",
    "s = ('hello world, how do you do') \n",
    "t = tuple() \n",
    "s = s.translate(str.maketrans('','', string.punctuation)) \n",
    "s = s.lower() \n",
    "s = s.replace(\" \", \"\") \n",
    "for i in s: print(i)"
   ]
  },
  {
   "cell_type": "code",
   "execution_count": 36,
   "metadata": {},
   "outputs": [
    {
     "name": "stdout",
     "output_type": "stream",
     "text": [
      "e 488\n",
      "t 359\n",
      "a 315\n",
      "i 293\n",
      "o 270\n",
      "n 268\n",
      "s 237\n",
      "r 231\n",
      "l 169\n",
      "h 153\n",
      "d 148\n",
      "c 146\n",
      "m 90\n",
      "p 79\n",
      "u 76\n",
      "f 75\n",
      "g 71\n",
      "w 67\n",
      "b 64\n",
      "y 59\n",
      "v 37\n",
      "x 21\n",
      "k 19\n",
      "j 13\n",
      "’ 9\n",
      "q 3\n",
      "” 2\n",
      "“ 2\n",
      "z 1\n"
     ]
    }
   ],
   "source": [
    "import re\n",
    "import string\n",
    "from string import digits\n",
    "fhand = open('Files/letter count.txt', encoding = \"utf8\")\n",
    "lcount = dict()\n",
    "lcounts = list()\n",
    "letters = fhand.read()\n",
    "#letters = letters.replace(\"'\", \"\")\n",
    "re.sub(\"'\", \"\", letters)\n",
    "letters = letters.translate(str.maketrans('','', string.punctuation))\n",
    "letters = letters.translate(str.maketrans('','', digits))\n",
    "letters = letters.lower()\n",
    "letters = letters.replace(\" \", \"\")\n",
    "letters = letters.replace(\"\\n\", \"\")\n",
    "#print(letters)\n",
    "for i in letters:\n",
    "    lcount[i] = lcount.get(i, 0) + 1\n",
    "for key, val in lcount.items():\n",
    "    lcounts += [(val, key)]\n",
    "lcounts.sort(reverse = True)\n",
    "for key, val in lcounts[:]:\n",
    "    print(val, key)\n",
    "#print(lcounts)"
   ]
  },
  {
   "cell_type": "code",
   "execution_count": null,
   "metadata": {},
   "outputs": [],
   "source": [
    "help(letters.replace)"
   ]
  },
  {
   "cell_type": "code",
   "execution_count": 1,
   "metadata": {},
   "outputs": [],
   "source": [
    "s = ('hello world, how\" do' you do') "
   ]
  },
  {
   "cell_type": "code",
   "execution_count": 13,
   "metadata": {},
   "outputs": [
    {
     "data": {
      "text/plain": [
       "'sajdkasjdsa kasdasdasds'"
      ]
     },
     "execution_count": 13,
     "metadata": {},
     "output_type": "execute_result"
    }
   ],
   "source": [
    "a = '\"sajdkasjdsa\" kasdasdasds\"' \n",
    "\n",
    "a = a.replace('\"', '')\n",
    "a"
   ]
  },
  {
   "cell_type": "code",
   "execution_count": null,
   "metadata": {},
   "outputs": [],
   "source": []
  }
 ],
 "metadata": {
  "kernelspec": {
   "display_name": "Python 3",
   "language": "python",
   "name": "python3"
  },
  "language_info": {
   "codemirror_mode": {
    "name": "ipython",
    "version": 3
   },
   "file_extension": ".py",
   "mimetype": "text/x-python",
   "name": "python",
   "nbconvert_exporter": "python",
   "pygments_lexer": "ipython3",
   "version": "3.7.1"
  }
 },
 "nbformat": 4,
 "nbformat_minor": 2
}
